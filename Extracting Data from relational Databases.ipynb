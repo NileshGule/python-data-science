{
 "cells": [
  {
   "cell_type": "markdown",
   "metadata": {},
   "source": [
    "# Extracting Data from relational Databases"
   ]
  },
  {
   "cell_type": "markdown",
   "metadata": {},
   "source": [
    "## SQLite database"
   ]
  },
  {
   "cell_type": "markdown",
   "metadata": {},
   "source": [
    "### import package"
   ]
  },
  {
   "cell_type": "code",
   "execution_count": 1,
   "metadata": {},
   "outputs": [],
   "source": [
    "#import sqlite3 package\n",
    "import sqlite3"
   ]
  },
  {
   "cell_type": "markdown",
   "metadata": {},
   "source": [
    "### Connect to database"
   ]
  },
  {
   "cell_type": "code",
   "execution_count": 3,
   "metadata": {},
   "outputs": [],
   "source": [
    "# connect to DB, create database if it does not exist\n",
    "connection = sqlite3.connect(\"techtalksdb.db\")\n",
    "connection.close()"
   ]
  },
  {
   "cell_type": "markdown",
   "metadata": {},
   "source": [
    "### Create table "
   ]
  },
  {
   "cell_type": "code",
   "execution_count": 7,
   "metadata": {},
   "outputs": [],
   "source": [
    "# open connection\n",
    "connection = sqlite3.connect(\"techtalkdb.db\")\n",
    "# open cursor\n",
    "cursor = connection.cursor()\n",
    "\n",
    "# create table\n",
    "create_table = \"\"\"\n",
    "CREATE TABLE Categories \n",
    "        (\n",
    "            Id INT IDENTITY(1,1) PRIMARY KEY,\n",
    "            categoryName NVARCHAR(50), \n",
    "            description NVARCHAR(100)\n",
    "        );        \n",
    "\"\"\""
   ]
  },
  {
   "cell_type": "code",
   "execution_count": 8,
   "metadata": {},
   "outputs": [
    {
     "data": {
      "text/plain": [
       "<sqlite3.Cursor at 0x103b2c6c0>"
      ]
     },
     "execution_count": 8,
     "metadata": {},
     "output_type": "execute_result"
    }
   ],
   "source": [
    "# execute query\n",
    "cursor.execute(create_table)"
   ]
  },
  {
   "cell_type": "code",
   "execution_count": 9,
   "metadata": {},
   "outputs": [],
   "source": [
    "#commit changes\n",
    "connection.commit()"
   ]
  },
  {
   "cell_type": "code",
   "execution_count": 10,
   "metadata": {},
   "outputs": [],
   "source": [
    "# close connection\n",
    "connection.close()"
   ]
  },
  {
   "cell_type": "code",
   "execution_count": null,
   "metadata": {},
   "outputs": [],
   "source": [
    "INSERT INTO Categories(categoryName, description) VALUES('Meetup', 'Community event organized via meetup');\n",
    "        INSERT INTO Categories(categoryName, description) VALUES('Free Conference', 'Free Tech Conference');\n",
    "        INSERT INTO Categories(categoryName, description) VALUES('Paid Conference', 'Paid Tech Conference');\n",
    "        INSERT INTO Categories(categoryName, description) VALUES('Hackathon', 'Hackathon');\n",
    "        INSERT INTO Categories(categoryName, description) VALUES('Eventribe', 'Community event organized via Eventribe');\n",
    "        \n",
    "        CREATE TABLE Levels \n",
    "        (\n",
    "            Id INT IDENTITY(1,1) PRIMARY KEY,\n",
    "            levelName NVARCHAR(50)\n",
    "        );\n",
    "        \n",
    "        INSERT INTO Levels(levelName) VALUES('100 - Beginer');\n",
    "        INSERT INTO Levels(levelName) VALUES('200 - Intermediate');\n",
    "        INSERT INTO Levels(levelName) VALUES('300 - Advanced');\n",
    "        INSERT INTO Levels(levelName) VALUES('400 - Expert');\n",
    "        \n",
    "        CREATE TABLE TechTalk \n",
    "        (\n",
    "            Id INT IDENTITY(1,1) PRIMARY KEY,             \n",
    "            techtalkname NVARCHAR(50), \n",
    "            categoryId INT REFERENCES Categories(Id),\n",
    "            levelId INT REFERENCES Levels(Id)\n",
    "        );\n",
    "        \n",
    "INSERT INTO TechTalk(techtalkname, categoryId, levelId) VALUES ('Scaling Docker Containers', 1, 1); \n",
    "        INSERT INTO TechTalk(techtalkname, categoryId, levelId) VALUES ('Azure Container Services', 2, 2);\n",
    "        INSERT INTO TechTalk(techtalkname, categoryId, levelId) VALUES ('Kubernetes', 3, 3);\n"
   ]
  }
 ],
 "metadata": {
  "kernelspec": {
   "display_name": "Python 2",
   "language": "python",
   "name": "python2"
  },
  "language_info": {
   "codemirror_mode": {
    "name": "ipython",
    "version": 2
   },
   "file_extension": ".py",
   "mimetype": "text/x-python",
   "name": "python",
   "nbconvert_exporter": "python",
   "pygments_lexer": "ipython2",
   "version": "2.7.14"
  }
 },
 "nbformat": 4,
 "nbformat_minor": 2
}
