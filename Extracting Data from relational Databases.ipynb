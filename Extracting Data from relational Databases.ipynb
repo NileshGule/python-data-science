{
 "cells": [
  {
   "cell_type": "markdown",
   "metadata": {},
   "source": [
    "# Extracting Data from relational Databases"
   ]
  },
  {
   "cell_type": "markdown",
   "metadata": {},
   "source": [
    "## SQLite database"
   ]
  },
  {
   "cell_type": "markdown",
   "metadata": {},
   "source": [
    "### import package"
   ]
  },
  {
   "cell_type": "code",
   "execution_count": 1,
   "metadata": {},
   "outputs": [],
   "source": [
    "#import sqlite3 package\n",
    "import sqlite3"
   ]
  },
  {
   "cell_type": "markdown",
   "metadata": {},
   "source": [
    "### Connect to database"
   ]
  },
  {
   "cell_type": "code",
   "execution_count": 2,
   "metadata": {},
   "outputs": [],
   "source": [
    "# connect to DB, create database if it does not exist\n",
    "connection = sqlite3.connect(\"techtalksdb.db\")\n",
    "connection.close()"
   ]
  },
  {
   "cell_type": "markdown",
   "metadata": {},
   "source": [
    "### Create table "
   ]
  },
  {
   "cell_type": "code",
   "execution_count": 3,
   "metadata": {},
   "outputs": [],
   "source": [
    "# open connection\n",
    "connection = sqlite3.connect(\"techtalksdb.db\")\n",
    "# open cursor\n",
    "cursor = connection.cursor()\n",
    "\n",
    "# create table\n",
    "create_table = \"\"\"\n",
    "CREATE TABLE Categories \n",
    "        (\n",
    "            Id INT IDENTITY(1,1) PRIMARY KEY,\n",
    "            categoryName NVARCHAR(50), \n",
    "            description NVARCHAR(100)\n",
    "        );        \n",
    "\"\"\""
   ]
  },
  {
   "cell_type": "code",
   "execution_count": 4,
   "metadata": {},
   "outputs": [
    {
     "ename": "OperationalError",
     "evalue": "table Categories already exists",
     "output_type": "error",
     "traceback": [
      "\u001b[0;31m---------------------------------------------------------------------------\u001b[0m",
      "\u001b[0;31mOperationalError\u001b[0m                          Traceback (most recent call last)",
      "\u001b[0;32m<ipython-input-4-214de03c108c>\u001b[0m in \u001b[0;36m<module>\u001b[0;34m()\u001b[0m\n\u001b[1;32m      1\u001b[0m \u001b[0;31m# execute query\u001b[0m\u001b[0;34m\u001b[0m\u001b[0;34m\u001b[0m\u001b[0m\n\u001b[0;32m----> 2\u001b[0;31m \u001b[0mcursor\u001b[0m\u001b[0;34m.\u001b[0m\u001b[0mexecute\u001b[0m\u001b[0;34m(\u001b[0m\u001b[0mcreate_table\u001b[0m\u001b[0;34m)\u001b[0m\u001b[0;34m\u001b[0m\u001b[0m\n\u001b[0m",
      "\u001b[0;31mOperationalError\u001b[0m: table Categories already exists"
     ]
    }
   ],
   "source": [
    "# execute query\n",
    "cursor.execute(create_table)"
   ]
  },
  {
   "cell_type": "code",
   "execution_count": 5,
   "metadata": {},
   "outputs": [],
   "source": [
    "#commit changes\n",
    "connection.commit()"
   ]
  },
  {
   "cell_type": "code",
   "execution_count": 6,
   "metadata": {},
   "outputs": [],
   "source": [
    "# close connection\n",
    "connection.close()"
   ]
  },
  {
   "cell_type": "markdown",
   "metadata": {},
   "source": [
    "### Insert Data in categories table"
   ]
  },
  {
   "cell_type": "code",
   "execution_count": 7,
   "metadata": {},
   "outputs": [],
   "source": [
    "# open connection\n",
    "connection = sqlite3.connect(\"techtalksdb.db\")\n",
    "# open cursor\n",
    "cursor = connection.cursor()\n",
    "\n",
    "# INSERT INTO Categories(categoryName, description) VALUES('Meetup', 'Community event organized via meetup');\n",
    "# INSERT INTO Categories(categoryName, description) VALUES('Free Conference', 'Free Tech Conference');\n",
    "# INSERT INTO Categories(categoryName, description) VALUES('Paid Conference', 'Paid Tech Conference');\n",
    "# INSERT INTO Categories(categoryName, description) VALUES('Hackathon', 'Hackathon');\n",
    "# INSERT INTO Categories(categoryName, description) VALUES('Eventribe', 'Community event organized via Eventribe');\n",
    "\n",
    "# create table\n",
    "insert_categories = \"\"\"\n",
    "    INSERT INTO Categories(categoryName, description) VALUES('Eventribe', 'Community event organized via Eventribe');\n",
    "\"\"\"\n",
    "\n",
    "#execute insert query\n",
    "cursor.execute(insert_categories)\n",
    "\n",
    "connection.commit()\n",
    "\n",
    "connection.close()"
   ]
  },
  {
   "cell_type": "markdown",
   "metadata": {},
   "source": [
    "### Query Data from Categories table"
   ]
  },
  {
   "cell_type": "code",
   "execution_count": 8,
   "metadata": {},
   "outputs": [
    {
     "name": "stdout",
     "output_type": "stream",
     "text": [
      "(None, u'Meetup', u'Community event organized via meetup')\n",
      "(None, u'Free Conference', u'Free Tech Conference')\n",
      "(None, u'Paid Conference', u'Paid Tech Conference')\n",
      "(None, u'Hackathon', u'Hackathon')\n",
      "(None, u'Eventribe', u'Community event organized via Eventribe')\n",
      "(None, u'Eventribe', u'Community event organized via Eventribe')\n"
     ]
    }
   ],
   "source": [
    "connection = sqlite3.connect(\"techtalksdb.db\")\n",
    "\n",
    "cursor = connection.cursor()\n",
    "\n",
    "select_query = \"SELECT * FROM Categories\"\n",
    "\n",
    "cursor.execute(select_query)\n",
    "\n",
    "result = cursor.fetchall()\n",
    "\n",
    "for row in result:\n",
    "    print(row)\n",
    "\n",
    "connection.close()"
   ]
  },
  {
   "cell_type": "code",
   "execution_count": null,
   "metadata": {},
   "outputs": [],
   "source": []
  }
 ],
 "metadata": {
  "kernelspec": {
   "display_name": "Python 2",
   "language": "python",
   "name": "python2"
  },
  "language_info": {
   "codemirror_mode": {
    "name": "ipython",
    "version": 2
   },
   "file_extension": ".py",
   "mimetype": "text/x-python",
   "name": "python",
   "nbconvert_exporter": "python",
   "pygments_lexer": "ipython2",
   "version": "2.7.14"
  }
 },
 "nbformat": 4,
 "nbformat_minor": 2
}
